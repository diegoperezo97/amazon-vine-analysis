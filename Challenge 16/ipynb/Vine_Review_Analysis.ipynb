{
  "nbformat": 4,
  "nbformat_minor": 0,
  "metadata": {
    "colab": {
      "name": "Vine_Review_Analysis.ipynb",
      "provenance": [],
      "collapsed_sections": []
    },
    "kernelspec": {
      "name": "python3",
      "display_name": "Python 3"
    },
    "language_info": {
      "name": "python"
    }
  },
  "cells": [
    {
      "cell_type": "code",
      "source": [
        "!pip intall sqlalchemy\n",
        "!pip install psycopg2-binary\n",
        "!pip intall urllib.parse"
      ],
      "metadata": {
        "colab": {
          "base_uri": "https://localhost:8080/"
        },
        "id": "Z4tLnWaqxPxP",
        "outputId": "cd84e733-a7eb-48aa-cd5c-d04216d8b7d9"
      },
      "execution_count": 1,
      "outputs": [
        {
          "output_type": "stream",
          "name": "stdout",
          "text": [
            "ERROR: unknown command \"intall\" - maybe you meant \"install\"\n",
            "Requirement already satisfied: psycopg2-binary in /usr/local/lib/python3.7/dist-packages (2.9.3)\n",
            "ERROR: unknown command \"intall\" - maybe you meant \"install\"\n"
          ]
        }
      ]
    },
    {
      "cell_type": "code",
      "execution_count": 2,
      "metadata": {
        "id": "Q-4nMm1Qm7pP"
      },
      "outputs": [],
      "source": [
        "import pandas as pd\n",
        "import urllib.parse\n",
        "import sqlalchemy as db\n",
        "from sqlalchemy import create_engine"
      ]
    },
    {
      "cell_type": "code",
      "source": [
        "engine = db.create_engine(\"postgresql+psycopg2://postgres:%s@dataviz.csoufx6a9qqn.us-east-2.rds.amazonaws.com:5432/postgres\" %urllib.parse.quote(\"Galaga43\"))\n",
        "conn = engine.connect()"
      ],
      "metadata": {
        "id": "W8xLiasYzU8u"
      },
      "execution_count": 3,
      "outputs": []
    },
    {
      "cell_type": "code",
      "source": [
        "vine_table_sql = conn.execute(\"SELECT * FROM vine_table WHERE total_votes >= 20\").fetchall()\n",
        "vine_table_df = pd.DataFrame(vine_table_sql)\n",
        "vine_table_df = vine_table_df.rename(columns={0: \"review_id\", 1:\"star_rating\", 2:\"helpful_votes\", 3:\"total_votes\", 4:\"vine\", 5:\"verified_purchase\"})\n",
        "helpful_votes = vine_table_df[vine_table_df[\"helpful_votes\"] / vine_table_df[\"total_votes\"] > 0.5]\n",
        "helpful_votes.head()"
      ],
      "metadata": {
        "colab": {
          "base_uri": "https://localhost:8080/",
          "height": 206
        },
        "id": "iojrcsfr1fgS",
        "outputId": "1a40cddc-45b2-4706-b411-ea91148d6c4d"
      },
      "execution_count": 4,
      "outputs": [
        {
          "output_type": "execute_result",
          "data": {
            "text/plain": [
              "        review_id  star_rating  helpful_votes  total_votes vine  \\\n",
              "0   R4PKAZRQJJX14            1             21           34    N   \n",
              "1  R2CI0Y288CC7E2            1             21           35    N   \n",
              "2  R127WEQY2FM1T3            1            147          175    N   \n",
              "4  R2FJ94555FZH32            2             55           60    N   \n",
              "5  R1U3AR67RE273L            1             51           65    N   \n",
              "\n",
              "  verified_purchase  \n",
              "0                 N  \n",
              "1                 Y  \n",
              "2                 Y  \n",
              "4                 N  \n",
              "5                 Y  "
            ],
            "text/html": [
              "\n",
              "  <div id=\"df-ddcda7b1-3104-4671-b9ec-f1e83a41225d\">\n",
              "    <div class=\"colab-df-container\">\n",
              "      <div>\n",
              "<style scoped>\n",
              "    .dataframe tbody tr th:only-of-type {\n",
              "        vertical-align: middle;\n",
              "    }\n",
              "\n",
              "    .dataframe tbody tr th {\n",
              "        vertical-align: top;\n",
              "    }\n",
              "\n",
              "    .dataframe thead th {\n",
              "        text-align: right;\n",
              "    }\n",
              "</style>\n",
              "<table border=\"1\" class=\"dataframe\">\n",
              "  <thead>\n",
              "    <tr style=\"text-align: right;\">\n",
              "      <th></th>\n",
              "      <th>review_id</th>\n",
              "      <th>star_rating</th>\n",
              "      <th>helpful_votes</th>\n",
              "      <th>total_votes</th>\n",
              "      <th>vine</th>\n",
              "      <th>verified_purchase</th>\n",
              "    </tr>\n",
              "  </thead>\n",
              "  <tbody>\n",
              "    <tr>\n",
              "      <th>0</th>\n",
              "      <td>R4PKAZRQJJX14</td>\n",
              "      <td>1</td>\n",
              "      <td>21</td>\n",
              "      <td>34</td>\n",
              "      <td>N</td>\n",
              "      <td>N</td>\n",
              "    </tr>\n",
              "    <tr>\n",
              "      <th>1</th>\n",
              "      <td>R2CI0Y288CC7E2</td>\n",
              "      <td>1</td>\n",
              "      <td>21</td>\n",
              "      <td>35</td>\n",
              "      <td>N</td>\n",
              "      <td>Y</td>\n",
              "    </tr>\n",
              "    <tr>\n",
              "      <th>2</th>\n",
              "      <td>R127WEQY2FM1T3</td>\n",
              "      <td>1</td>\n",
              "      <td>147</td>\n",
              "      <td>175</td>\n",
              "      <td>N</td>\n",
              "      <td>Y</td>\n",
              "    </tr>\n",
              "    <tr>\n",
              "      <th>4</th>\n",
              "      <td>R2FJ94555FZH32</td>\n",
              "      <td>2</td>\n",
              "      <td>55</td>\n",
              "      <td>60</td>\n",
              "      <td>N</td>\n",
              "      <td>N</td>\n",
              "    </tr>\n",
              "    <tr>\n",
              "      <th>5</th>\n",
              "      <td>R1U3AR67RE273L</td>\n",
              "      <td>1</td>\n",
              "      <td>51</td>\n",
              "      <td>65</td>\n",
              "      <td>N</td>\n",
              "      <td>Y</td>\n",
              "    </tr>\n",
              "  </tbody>\n",
              "</table>\n",
              "</div>\n",
              "      <button class=\"colab-df-convert\" onclick=\"convertToInteractive('df-ddcda7b1-3104-4671-b9ec-f1e83a41225d')\"\n",
              "              title=\"Convert this dataframe to an interactive table.\"\n",
              "              style=\"display:none;\">\n",
              "        \n",
              "  <svg xmlns=\"http://www.w3.org/2000/svg\" height=\"24px\"viewBox=\"0 0 24 24\"\n",
              "       width=\"24px\">\n",
              "    <path d=\"M0 0h24v24H0V0z\" fill=\"none\"/>\n",
              "    <path d=\"M18.56 5.44l.94 2.06.94-2.06 2.06-.94-2.06-.94-.94-2.06-.94 2.06-2.06.94zm-11 1L8.5 8.5l.94-2.06 2.06-.94-2.06-.94L8.5 2.5l-.94 2.06-2.06.94zm10 10l.94 2.06.94-2.06 2.06-.94-2.06-.94-.94-2.06-.94 2.06-2.06.94z\"/><path d=\"M17.41 7.96l-1.37-1.37c-.4-.4-.92-.59-1.43-.59-.52 0-1.04.2-1.43.59L10.3 9.45l-7.72 7.72c-.78.78-.78 2.05 0 2.83L4 21.41c.39.39.9.59 1.41.59.51 0 1.02-.2 1.41-.59l7.78-7.78 2.81-2.81c.8-.78.8-2.07 0-2.86zM5.41 20L4 18.59l7.72-7.72 1.47 1.35L5.41 20z\"/>\n",
              "  </svg>\n",
              "      </button>\n",
              "      \n",
              "  <style>\n",
              "    .colab-df-container {\n",
              "      display:flex;\n",
              "      flex-wrap:wrap;\n",
              "      gap: 12px;\n",
              "    }\n",
              "\n",
              "    .colab-df-convert {\n",
              "      background-color: #E8F0FE;\n",
              "      border: none;\n",
              "      border-radius: 50%;\n",
              "      cursor: pointer;\n",
              "      display: none;\n",
              "      fill: #1967D2;\n",
              "      height: 32px;\n",
              "      padding: 0 0 0 0;\n",
              "      width: 32px;\n",
              "    }\n",
              "\n",
              "    .colab-df-convert:hover {\n",
              "      background-color: #E2EBFA;\n",
              "      box-shadow: 0px 1px 2px rgba(60, 64, 67, 0.3), 0px 1px 3px 1px rgba(60, 64, 67, 0.15);\n",
              "      fill: #174EA6;\n",
              "    }\n",
              "\n",
              "    [theme=dark] .colab-df-convert {\n",
              "      background-color: #3B4455;\n",
              "      fill: #D2E3FC;\n",
              "    }\n",
              "\n",
              "    [theme=dark] .colab-df-convert:hover {\n",
              "      background-color: #434B5C;\n",
              "      box-shadow: 0px 1px 3px 1px rgba(0, 0, 0, 0.15);\n",
              "      filter: drop-shadow(0px 1px 2px rgba(0, 0, 0, 0.3));\n",
              "      fill: #FFFFFF;\n",
              "    }\n",
              "  </style>\n",
              "\n",
              "      <script>\n",
              "        const buttonEl =\n",
              "          document.querySelector('#df-ddcda7b1-3104-4671-b9ec-f1e83a41225d button.colab-df-convert');\n",
              "        buttonEl.style.display =\n",
              "          google.colab.kernel.accessAllowed ? 'block' : 'none';\n",
              "\n",
              "        async function convertToInteractive(key) {\n",
              "          const element = document.querySelector('#df-ddcda7b1-3104-4671-b9ec-f1e83a41225d');\n",
              "          const dataTable =\n",
              "            await google.colab.kernel.invokeFunction('convertToInteractive',\n",
              "                                                     [key], {});\n",
              "          if (!dataTable) return;\n",
              "\n",
              "          const docLinkHtml = 'Like what you see? Visit the ' +\n",
              "            '<a target=\"_blank\" href=https://colab.research.google.com/notebooks/data_table.ipynb>data table notebook</a>'\n",
              "            + ' to learn more about interactive tables.';\n",
              "          element.innerHTML = '';\n",
              "          dataTable['output_type'] = 'display_data';\n",
              "          await google.colab.output.renderOutput(dataTable, element);\n",
              "          const docLink = document.createElement('div');\n",
              "          docLink.innerHTML = docLinkHtml;\n",
              "          element.appendChild(docLink);\n",
              "        }\n",
              "      </script>\n",
              "    </div>\n",
              "  </div>\n",
              "  "
            ]
          },
          "metadata": {},
          "execution_count": 4
        }
      ]
    },
    {
      "cell_type": "markdown",
      "source": [
        "# Vine Program"
      ],
      "metadata": {
        "id": "3gD5i71R73ON"
      }
    },
    {
      "cell_type": "code",
      "source": [
        "vine_program = helpful_votes[helpful_votes[\"vine\"] == \"Y\"]\n",
        "total_reviews_vp = len(vine_program[\"review_id\"].unique())\n",
        "five_star_reviews_vp = len(vine_program[vine_program[\"star_rating\"] == 5][\"review_id\"].unique())\n",
        "percentage_five_star_reviews_vp = round(five_star_reviews_vp / total_reviews_vp * 100, 2)\n",
        "print(f\"There are {total_reviews_vp} total reviews, {five_star_reviews_vp} of them having five stars, yielding a {percentage_five_star_reviews_vp}% percentage of five star reviews for the Vine Program.\")"
      ],
      "metadata": {
        "colab": {
          "base_uri": "https://localhost:8080/"
        },
        "id": "XmSR6BEh5Co7",
        "outputId": "d14f0a1f-768a-4d4b-f149-5ce25db54f20"
      },
      "execution_count": 5,
      "outputs": [
        {
          "output_type": "stream",
          "name": "stdout",
          "text": [
            "There are 94 total reviews, 48 of them having five stars, yielding a 51.06% percentage of five star reviews for the Vine Program.\n"
          ]
        }
      ]
    },
    {
      "cell_type": "markdown",
      "source": [
        "# NOT Vine Program"
      ],
      "metadata": {
        "id": "R5idnz7w79p_"
      }
    },
    {
      "cell_type": "code",
      "source": [
        "not_vine_program = helpful_votes[helpful_votes[\"vine\"] == \"N\"]\n",
        "total_reviews_nvp = len(not_vine_program[\"review_id\"].unique())\n",
        "five_star_reviews_nvp = len(not_vine_program[not_vine_program[\"star_rating\"] == 5][\"review_id\"].unique())\n",
        "percentage_five_star_reviews_nvp = round(five_star_reviews_nvp / total_reviews_nvp * 100, 2)\n",
        "print(f\"There are {total_reviews_nvp} total reviews, {five_star_reviews_nvp} of them having five stars, yielding a {percentage_five_star_reviews_nvp}% percentage of five star reviews non-related to the Vine Program.\")"
      ],
      "metadata": {
        "colab": {
          "base_uri": "https://localhost:8080/"
        },
        "id": "84-8K02g8Agj",
        "outputId": "a2aee25d-7f01-4244-a81f-2eb391e95118"
      },
      "execution_count": 6,
      "outputs": [
        {
          "output_type": "stream",
          "name": "stdout",
          "text": [
            "There are 39915 total reviews, 15556 of them having five stars, yielding a 38.97% percentage of five star reviews non-related to the Vine Program.\n"
          ]
        }
      ]
    }
  ]
}